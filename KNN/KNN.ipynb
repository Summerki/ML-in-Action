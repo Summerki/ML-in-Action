{
 "cells": [
  {
   "cell_type": "code",
   "execution_count": 2,
   "metadata": {},
   "outputs": [
    {
     "name": "stdout",
     "output_type": "stream",
     "text": [
      "[[  1 101]\n",
      " [  5  89]\n",
      " [108   5]\n",
      " [115   8]]\n",
      "['爱情片', '爱情片', '动作片', '动作片']\n"
     ]
    }
   ],
   "source": [
    "# KNN 实现\n",
    "\n",
    "import numpy as np\n",
    "\n",
    "# 创建数据\n",
    "def createDataSet():\n",
    "    # 四组二维特征\n",
    "    group = np.array([\n",
    "        [1, 101],\n",
    "        [5, 89],\n",
    "        [108, 5],\n",
    "        [115, 8]\n",
    "    ])\n",
    "    \n",
    "    # 四组特征的标签\n",
    "    labels = ['爱情片', '爱情片', '动作片', '动作片']\n",
    "    \n",
    "    return group, labels\n",
    "\n",
    "if __name__ == '__main__':\n",
    "    group, labels = createDataSet()\n",
    "    print(group)\n",
    "    print(labels)"
   ]
  },
  {
   "cell_type": "code",
   "execution_count": 3,
   "metadata": {},
   "outputs": [
    {
     "name": "stdout",
     "output_type": "stream",
     "text": [
      "动作片\n"
     ]
    }
   ],
   "source": [
    "# KNN：根据两点距离公式，计算距离，选择距离最小的前k个点，并返回分类结果\n",
    "\n",
    "import numpy as np\n",
    "import operator\n",
    "\n",
    "def createDataSet():\n",
    "    # 四组二维特征\n",
    "    group = np.array([\n",
    "        [1, 101],\n",
    "        [5, 89],\n",
    "        [108, 5],\n",
    "        [115, 8]\n",
    "    ])\n",
    "    \n",
    "    # 四组特征的标签\n",
    "    labels = ['爱情片', '爱情片', '动作片', '动作片']\n",
    "    \n",
    "    return group, labels\n",
    "\n",
    "\n",
    "'''\n",
    "inX:用于分类的数据（测试集）\n",
    "dataSet:用于训练的数据（训练集）\n",
    "labels：标签\n",
    "k：KNN算法参数，选择距离最小的k个点\n",
    "'''\n",
    "def classify0(inX, dataSet, labels, k):\n",
    "    dataSetSize = dataSet.shape[0];  # 本来shape返回一个元组代表多少行多少列，现在你取[0]，不就代表行数嘛\n",
    "    # tile函数说明https://blog.csdn.net/ooxxshaso/article/details/81383315\n",
    "    diffMat = np.tile(inX, (dataSetSize, 1)) - dataSet\n",
    "    sqDiffMat = diffMat**2\n",
    "    sqDistances = sqDiffMat.sum(axis=1)\n",
    "    distances = sqDistances**0.5\n",
    "    # argsort()->https://www.cnblogs.com/yyxf1413/p/6253995.html\n",
    "    sortedDistIndices = distances.argsort()\n",
    "    \n",
    "    classCount = {}\n",
    "    for i in range(k):\n",
    "        voteIlabel = labels[sortedDistIndices[i]]\n",
    "        classCount[voteIlabel] = classCount.get(voteIlabel, 0) + 1\n",
    "        \n",
    "    sortedClassCount = sorted(classCount.items(), key=operator.itemgetter(1), reverse=True)\n",
    "    return sortedClassCount[0][0]\n",
    "\n",
    "\n",
    "if __name__ == '__main__':\n",
    "    group, labels = createDataSet()\n",
    "    test = [101, 20]\n",
    "    test_class = classify0(test, group, labels, 3)\n",
    "    print(test_class)\n",
    "    "
   ]
  }
 ],
 "metadata": {
  "kernelspec": {
   "display_name": "Python 3",
   "language": "python",
   "name": "python3"
  },
  "language_info": {
   "codemirror_mode": {
    "name": "ipython",
    "version": 3
   },
   "file_extension": ".py",
   "mimetype": "text/x-python",
   "name": "python",
   "nbconvert_exporter": "python",
   "pygments_lexer": "ipython3",
   "version": "3.7.3"
  }
 },
 "nbformat": 4,
 "nbformat_minor": 2
}
